{
 "cells": [
  {
   "cell_type": "code",
   "execution_count": 63,
   "metadata": {},
   "outputs": [],
   "source": [
    "import os\n",
    "import numpy as np\n",
    "import pandas as pd\n",
    "from sklearn import neighbors, metrics \n",
    "from sklearn.neural_network import MLPClassifier\n",
    "from sklearn.metrics import confusion_matrix\n",
    "from sklearn.model_selection import train_test_split   "
   ]
  },
  {
   "cell_type": "markdown",
   "metadata": {},
   "source": [
    "LOOKING INTO THE DATASETS:"
   ]
  },
  {
   "cell_type": "code",
   "execution_count": 64,
   "metadata": {},
   "outputs": [
    {
     "name": "stdout",
     "output_type": "stream",
     "text": [
      "   CpuNumberOfCores  CpuNumberOfThreads  CpuBaseClock  CpuFrequency  CpuTDP  \\\n",
      "0                 8                  16           100          3600      95   \n",
      "1                 8                   8           100          3600      95   \n",
      "2                 6                  12           100          3700      95   \n",
      "3                 4                   8           100          4200      91   \n",
      "4                 6                   6           100          2900      65   \n",
      "\n",
      "   CpuTurboClock  GpuBandwidth  GpuBaseClock  GpuBoostClock  GpuMemorySize  \\\n",
      "0           5000        616000          1350           1545          11000   \n",
      "1           4900        616000          1350           1545          11000   \n",
      "2           4700        616000          1350           1545          11000   \n",
      "3           4500        616000          1350           1545          11000   \n",
      "4           4100        616000          1350           1545          11000   \n",
      "\n",
      "     FPS  \n",
      "0  135.2  \n",
      "1  134.0  \n",
      "2  123.8  \n",
      "3  120.2  \n",
      "4  119.5  \n"
     ]
    }
   ],
   "source": [
    "#Importing the dataset\n",
    "data_GTAV = pd.read_csv('FPS_grandTheftAuto5.csv') \n",
    "data_Fortnite = pd.read_csv('FPS_fortnite.csv') \n",
    "data_FarCry5 = pd.read_csv('FPS_farCry5.csv') \n",
    "data_CS = pd.read_csv('FPS_counterStrikeGlobalOffensive.csv') \n",
    "data_Battlefield4 = pd.read_csv('FPS_battlefield4.csv') \n",
    "data_PUBG = pd.read_csv('FPS_playerUnknownsBattlegrounds.csv') \n",
    "data_CODWW2 = pd.read_csv('FPS_callOfDutyWW2.csv') \n",
    "\n",
    "#printing the data just to check:\n",
    "print(data_GTAV.head()) \n",
    " "
   ]
  },
  {
   "cell_type": "code",
   "execution_count": 65,
   "metadata": {},
   "outputs": [
    {
     "name": "stdout",
     "output_type": "stream",
     "text": [
      "Features(X):\n",
      " [[    8    16   100 ...  1350  1545 11000]\n",
      " [    8     8   100 ...  1350  1545 11000]\n",
      " [    6    12   100 ...  1350  1545 11000]\n",
      " ...\n",
      " [    6    12   100 ...  1168  1244  4000]\n",
      " [    6    12   100 ...  1168  1244  4000]\n",
      " [    8    16   100 ...  1168  1244  4000]]\n",
      "\n",
      "Label(y):\n",
      " [135.2 134.  123.8 ...  40.3  39.8  38.6]\n"
     ]
    }
   ],
   "source": [
    "#Seperating the data in features and label\n",
    "X_GTAV = data_GTAV.drop(columns = ['FPS']).values  \n",
    "y_GTAV = data_GTAV['FPS'].values \n",
    "\n",
    "#Printing into arrays:\n",
    "print(\"Features(X):\\n\", X_GTAV)\n",
    "print(\"\\nLabel(y):\\n\", y_GTAV)"
   ]
  },
  {
   "cell_type": "markdown",
   "metadata": {},
   "source": [
    "DOING THE SAME STUFF FOR ALL THE OTHER DATASETS"
   ]
  },
  {
   "cell_type": "code",
   "execution_count": 70,
   "metadata": {},
   "outputs": [
    {
     "name": "stdout",
     "output_type": "stream",
     "text": [
      "[[    8    16   100 ...  1350  1545 11000]\n",
      " [    8     8   100 ...  1350  1545 11000]\n",
      " [    6    12   100 ...  1350  1545 11000]\n",
      " ...\n",
      " [    6    12   100 ...  1168  1244  4000]\n",
      " [    6    12   100 ...  1168  1244  4000]\n",
      " [    8    16   100 ...  1168  1244  4000]]\n"
     ]
    }
   ],
   "source": [
    "X_Fortnite = data_Fortnite.drop(columns = ['FPS']).values  \n",
    "y_Fortnite = data_Fortnite['FPS'].values \n",
    "\n",
    "X_FarCry5 = data_FarCry5.drop(columns = ['FPS']).values  \n",
    "y_FarCry5 = data_FarCry5['FPS'].values \n",
    "\n",
    "X_CS = data_CS.drop(columns = ['FPS']).values  \n",
    "y_CS = data_CS['FPS'].values \n",
    "\n",
    "X_Battlefield4 = data_Battlefield4.drop(columns = ['FPS']).values  \n",
    "y_Battlefield4 = data_Battlefield4['FPS'].values \n",
    "\n",
    "X_PUBG = data_PUBG.drop(columns = ['FPS']).values  \n",
    "y_PUBG = data_PUBG['FPS'].values \n",
    "\n",
    "X_CODWW2 = data_CODWW2.drop(columns = ['FPS']).values  \n",
    "y_CODWW2 = data_CODWW2['FPS'].values \n",
    "\n",
    "\n",
    "#Just checking on some random data:\n",
    "print(X_FarCry5)"
   ]
  },
  {
   "cell_type": "markdown",
   "metadata": {},
   "source": [
    "NORMALISING DATA FOR MODEL'S CONVINIENCE:"
   ]
  },
  {
   "cell_type": "markdown",
   "metadata": {},
   "source": [
    "We are having 10 features and all of them are of variating ranges so to just get them at a value of 0 to 1:\n",
    "Taking the newest gen as a reference: i9-14900k paired with RTX 4090 (we didn't consider ryzen 9 7950X3D because it doesn't works on the p and e cores architecture)\n",
    "No. of cores = 24\n",
    "No. of threads = 32\n",
    "CPUbaseClock = Assuming 100(won't affect the data)\n",
    "CPUfrequency = 5600\n",
    "CpuTDP = 125\n",
    "Cpu_TURBO_CLOCK = 6000\n",
    "\n",
    "GpuBandwidth = 1008*1000 = 1008000\n",
    "GpuBaseClock = 2235 \n",
    "GpuBoostClock = 2520\n",
    "GpuMemorySize = 240000"
   ]
  },
  {
   "cell_type": "code",
   "execution_count": 72,
   "metadata": {},
   "outputs": [
    {
     "name": "stdout",
     "output_type": "stream",
     "text": [
      "[0 0 0 0 0 0 0 0 0 0]\n",
      "[0. 0. 0. ... 0. 0. 0.]\n"
     ]
    }
   ],
   "source": [
    "#Normalising the data:\n",
    "\n",
    "for i in range(0, 1026):\n",
    "    X_GTAV[i][0] = X_GTAV[i][0]/24\n",
    "\n",
    "for i in range(0, 1026):\n",
    "    X_GTAV[i][1] = X_GTAV[i][1]/32\n",
    "\n",
    "for i in range(0, 1026):\n",
    "    X_GTAV[i][2] = X_GTAV[i][2]/100\n",
    "\n",
    "for i in range(0, 1026):\n",
    "    X_GTAV[i][3] = X_GTAV[i][3]/5600\n",
    "\n",
    "for i in range(0, 1026):\n",
    "    X_GTAV[i][4] = X_GTAV[i][4]/125\n",
    "\n",
    "for i in range(0, 1026):\n",
    "    X_GTAV[i][5] = X_GTAV[i][5]/6000\n",
    "\n",
    "for i in range(0, 1026):\n",
    "    X_GTAV[i][6] = X_GTAV[i][6]/1008000\n",
    "\n",
    "for i in range(0, 1026):\n",
    "    X_GTAV[i][7] = X_GTAV[i][7]/2235\n",
    "\n",
    "for i in range(0, 1026):\n",
    "    X_GTAV[i][8] = X_GTAV[i][8]/2520\n",
    "\n",
    "for i in range(0, 1026):\n",
    "    X_GTAV[i][9] = X_GTAV[i][9]/240000\n",
    "\n",
    "#Normalising the label too:\n",
    "#For GTAV Avg fps of data: 82.1423 but since it's locked at 185 fps for even best of the systems so we'll use it.\n",
    "for i in range(0, 1026):\n",
    "    y_GTAV = y_GTAV/185\n",
    "\n",
    "\n",
    "# Now checking the data again:\n",
    "print(X_GTAV[23])\n",
    "print(y_GTAV)\n"
   ]
  },
  {
   "cell_type": "markdown",
   "metadata": {},
   "source": [
    "SPLITING THE DATA IN TRANING/TESTING:"
   ]
  },
  {
   "cell_type": "code",
   "execution_count": 57,
   "metadata": {},
   "outputs": [],
   "source": [
    "X_GTAV_train, X_GTAV_test, y_GTAV_train, y_GTAV_test = train_test_split(X_GTAV, y_GTAV, test_size = 0.2)\n",
    "\n",
    "#Doing same with the other data:\n",
    "X_Fortnite_train, X_Fortnite_test, y_Fortnite_train, y_Fortnite_test = train_test_split(X_Fortnite, y_Fortnite, test_size = 0.2)\n",
    "X_FarCry5_train, X_FarCry5_test, y_FarCry5_train, y_FarCry5_test = train_test_split(X_FarCry5, y_FarCry5, test_size = 0.2)\n",
    "X_CS_train, X_CS_test, y_CS_train, y_CS_test = train_test_split(X_CS, y_CS, test_size = 0.2)\n",
    "X_Battlefield4_train, X_Battlefield4_test, y_Battlefield4_train, y_Battlefield4_test = train_test_split(X_Battlefield4, y_Battlefield4, test_size = 0.2)\n",
    "X_PUBG_train, X_PUBG_test, y_PUBG_train, y_PUBG_test = train_test_split(X_PUBG, y_PUBG, test_size = 0.2)\n",
    "X_CODWW2_train, X_CODWW2_test, y_CODWW2_train, y_CODWW2_test = train_test_split(X_CODWW2, y_CODWW2, test_size = 0.2)\n"
   ]
  },
  {
   "cell_type": "code",
   "execution_count": 62,
   "metadata": {},
   "outputs": [
    {
     "name": "stdout",
     "output_type": "stream",
     "text": [
      "[[    8    16   100 ...  1350  1545 11000]\n",
      " [    8     8   100 ...  1350  1545 11000]\n",
      " [    6    12   100 ...  1350  1545 11000]\n",
      " ...\n",
      " [    6    12   100 ...  1168  1244  4000]\n",
      " [    6    12   100 ...  1168  1244  4000]\n",
      " [    8    16   100 ...  1168  1244  4000]]\n",
      "[135.2 134.  123.8 ...  40.3  39.8  38.6]\n",
      "\n",
      " [[   4    4  100 ... 1506 1683 8000]\n",
      " [   6   12  100 ... 1465 1725 8000]\n",
      " [   4    4  100 ... 1469 1545 8000]\n",
      " ...\n",
      " [   6   12  100 ... 1291 1392 4000]\n",
      " [   6   12  100 ... 1469 1545 8000]\n",
      " [   6    6  100 ... 1291 1392 4000]]\n",
      "(1026, 10)\n",
      "(820, 10)\n",
      "[     4      4    100   3800     91   4200 256300   1506   1683   8000]\n"
     ]
    }
   ],
   "source": [
    "#Checking with the dimensions now:\n",
    "#For Ex. data of GTAV\n",
    "X_GTAV = np.array(X_GTAV)\n",
    "print(X_GTAV)\n",
    "print(y_GTAV)\n",
    "print(\"\\n\", X_GTAV_train)\n",
    "print(X_GTAV.shape)\n",
    "print(X_GTAV_train.shape)\n",
    "print(X_GTAV_train[0])\n"
   ]
  }
 ],
 "metadata": {
  "kernelspec": {
   "display_name": "Python 3",
   "language": "python",
   "name": "python3"
  },
  "language_info": {
   "codemirror_mode": {
    "name": "ipython",
    "version": 3
   },
   "file_extension": ".py",
   "mimetype": "text/x-python",
   "name": "python",
   "nbconvert_exporter": "python",
   "pygments_lexer": "ipython3",
   "version": "3.12.5"
  }
 },
 "nbformat": 4,
 "nbformat_minor": 2
}

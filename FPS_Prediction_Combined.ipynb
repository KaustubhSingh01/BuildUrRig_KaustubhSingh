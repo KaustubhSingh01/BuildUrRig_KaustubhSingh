{
 "cells": [
  {
   "cell_type": "code",
   "execution_count": 13,
   "metadata": {},
   "outputs": [],
   "source": [
    "import os\n",
    "import numpy as np\n",
    "import pandas as pd\n",
    "from sklearn import neighbors, metrics \n",
    "from sklearn.model_selection import train_test_split   "
   ]
  },
  {
   "cell_type": "markdown",
   "metadata": {},
   "source": [
    "LOOKING INTO THE DATASETS:"
   ]
  },
  {
   "cell_type": "code",
   "execution_count": 14,
   "metadata": {},
   "outputs": [
    {
     "name": "stdout",
     "output_type": "stream",
     "text": [
      "   CpuNumberOfCores  CpuNumberOfThreads  CpuBaseClock  CpuFrequency  CpuTDP  \\\n",
      "0                 8                  16           100          3600      95   \n",
      "1                 8                   8           100          3600      95   \n",
      "2                 6                  12           100          3700      95   \n",
      "3                 4                   8           100          4200      91   \n",
      "4                 6                   6           100          2900      65   \n",
      "\n",
      "   CpuTurboClock  GpuBandwidth  GpuBaseClock  GpuBoostClock  GpuMemorySize  \\\n",
      "0           5000        616000          1350           1545          11000   \n",
      "1           4900        616000          1350           1545          11000   \n",
      "2           4700        616000          1350           1545          11000   \n",
      "3           4500        616000          1350           1545          11000   \n",
      "4           4100        616000          1350           1545          11000   \n",
      "\n",
      "     FPS  \n",
      "0  135.2  \n",
      "1  134.0  \n",
      "2  123.8  \n",
      "3  120.2  \n",
      "4  119.5  \n"
     ]
    }
   ],
   "source": [
    "#Importing the dataset\n",
    "data_GTAV = pd.read_csv('FPS_grandTheftAuto5.csv') \n",
    "data_Fortnite = pd.read_csv('FPS_fortnite.csv') \n",
    "data_FarCry5 = pd.read_csv('FPS_farCry5.csv') \n",
    "data_CS = pd.read_csv('FPS_counterStrikeGlobalOffensive.csv') \n",
    "data_Battlefield4 = pd.read_csv('FPS_battlefield4.csv') \n",
    "data_PUBG = pd.read_csv('FPS_playerUnknownsBattlegrounds.csv') \n",
    "data_CODWW2 = pd.read_csv('FPS_callOfDutyWW2.csv') \n",
    "\n",
    "#printing the data just to check:\n",
    "print(data_GTAV.head()) \n",
    " "
   ]
  },
  {
   "cell_type": "code",
   "execution_count": 17,
   "metadata": {},
   "outputs": [
    {
     "name": "stdout",
     "output_type": "stream",
     "text": [
      "Features(X):\n",
      " [[    8    16   100 ...  1350  1545 11000]\n",
      " [    8     8   100 ...  1350  1545 11000]\n",
      " [    6    12   100 ...  1350  1545 11000]\n",
      " ...\n",
      " [    6    12   100 ...  1168  1244  4000]\n",
      " [    6    12   100 ...  1168  1244  4000]\n",
      " [    8    16   100 ...  1168  1244  4000]]\n",
      "\n",
      "Label(y):\n",
      " [135.2 134.  123.8 ...  40.3  39.8  38.6]\n"
     ]
    }
   ],
   "source": [
    "#Seperating the data in features and label\n",
    "X_GTAV = data_GTAV.drop(columns = ['FPS']).values  \n",
    "y_GTAV = data_GTAV['FPS'].values \n",
    "\n",
    "#Printing into arrays:\n",
    "print(\"Features(X):\\n\", X_GTAV)\n",
    "print(\"\\nLabel(y):\\n\", y_GTAV)"
   ]
  },
  {
   "cell_type": "markdown",
   "metadata": {},
   "source": [
    "DOING THE SAME STUFF FOR ALL THE OTHER DATASETS"
   ]
  },
  {
   "cell_type": "code",
   "execution_count": 19,
   "metadata": {},
   "outputs": [],
   "source": [
    "X_Fortnite = data_Fortnite.drop(columns = ['FPS']).values  \n",
    "y_Fortnite = data_Fortnite['FPS'].values \n",
    "\n",
    "X_FarCry5 = data_FarCry5.drop(columns = ['FPS']).values  \n",
    "y_FarCry5 = data_FarCry5['FPS'].values \n",
    "\n",
    "X_CS = data_CS.drop(columns = ['FPS']).values  \n",
    "y_CS = data_CS['FPS'].values \n",
    "\n",
    "X_Battlefield4 = data_Battlefield4.drop(columns = ['FPS']).values  \n",
    "y_Battlefield4 = data_Battlefield4['FPS'].values \n",
    "\n",
    "X_PUBG = data_PUBG.drop(columns = ['FPS']).values  \n",
    "y_PUBG = data_PUBG['FPS'].values \n",
    "\n",
    "X_CODWW2 = data_CODWW2.drop(columns = ['FPS']).values  \n",
    "y_CODWW2 = data_CODWW2['FPS'].values \n"
   ]
  }
 ],
 "metadata": {
  "kernelspec": {
   "display_name": "Python 3",
   "language": "python",
   "name": "python3"
  },
  "language_info": {
   "codemirror_mode": {
    "name": "ipython",
    "version": 3
   },
   "file_extension": ".py",
   "mimetype": "text/x-python",
   "name": "python",
   "nbconvert_exporter": "python",
   "pygments_lexer": "ipython3",
   "version": "3.12.5"
  }
 },
 "nbformat": 4,
 "nbformat_minor": 2
}

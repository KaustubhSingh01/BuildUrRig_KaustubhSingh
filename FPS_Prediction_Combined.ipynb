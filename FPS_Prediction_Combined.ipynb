{
 "cells": [
  {
   "cell_type": "code",
   "execution_count": 1,
   "metadata": {},
   "outputs": [],
   "source": [
    "import os\n",
    "import numpy as np\n",
    "import pandas as pd\n",
    "from sklearn import neighbors, metrics \n",
    "from sklearn.model_selection import train_test_split   "
   ]
  },
  {
   "cell_type": "code",
   "execution_count": 9,
   "metadata": {},
   "outputs": [
    {
     "name": "stdout",
     "output_type": "stream",
     "text": [
      "                  CpuName  CpuNumberOfCores  CpuNumberOfThreads  CpuBaseClock  \\\n",
      "0  b'Intel Core i9-9900K'                 8                  16           100   \n",
      "1  b'Intel Core i7-9700K'                 8                   8           100   \n",
      "2  b'Intel Core i7-8700K'                 6                  12           100   \n",
      "3  b'Intel Core i7-7700K'                 4                   8           100   \n",
      "4  b'Intel Core i5-9400F'                 6                   6           100   \n",
      "\n",
      "   CpuCacheL1  CpuCacheL2  CpuCacheL3  Unnamed: 7  CpuFrequency  Unnamed: 9  \\\n",
      "0         512        2048          16         NaN          3600         NaN   \n",
      "1         512        2048          12         NaN          3600         NaN   \n",
      "2         384        1536          12         NaN          3700         NaN   \n",
      "3         256        1024           8         NaN          4200         NaN   \n",
      "4         384        1536           9         NaN          2900         NaN   \n",
      "\n",
      "   ...  GpuShaderModel  GpuNumberOfShadingUnits  GpuNumberOfTMUs  \\\n",
      "0  ...          b'6.5'                     4352              272   \n",
      "1  ...          b'6.5'                     4352              272   \n",
      "2  ...          b'6.5'                     4352              272   \n",
      "3  ...          b'6.5'                     4352              272   \n",
      "4  ...          b'6.5'                     4352              272   \n",
      "\n",
      "   GpuTextureRate  Unnamed: 38 Unnamed: 39            GameName  Unnamed: 41  \\\n",
      "0          420200          NaN         NaN  b'grandTheftAuto5'          NaN   \n",
      "1          420200          NaN         NaN  b'grandTheftAuto5'          NaN   \n",
      "2          420200          NaN         NaN  b'grandTheftAuto5'          NaN   \n",
      "3          420200          NaN         NaN  b'grandTheftAuto5'          NaN   \n",
      "4          420200          NaN         NaN  b'grandTheftAuto5'          NaN   \n",
      "\n",
      "   Unnamed: 42    FPS  \n",
      "0          NaN  135.2  \n",
      "1          NaN  134.0  \n",
      "2          NaN  123.8  \n",
      "3          NaN  120.2  \n",
      "4          NaN  119.5  \n",
      "\n",
      "[5 rows x 44 columns]\n"
     ]
    }
   ],
   "source": [
    "#Importing the dataset\n",
    "data = pd.read_csv('fps_GTAV.csv') \n",
    "\n",
    "#printing the data just to check:\n",
    "print(data.head()) \n",
    " "
   ]
  }
 ],
 "metadata": {
  "kernelspec": {
   "display_name": "Python 3",
   "language": "python",
   "name": "python3"
  },
  "language_info": {
   "codemirror_mode": {
    "name": "ipython",
    "version": 3
   },
   "file_extension": ".py",
   "mimetype": "text/x-python",
   "name": "python",
   "nbconvert_exporter": "python",
   "pygments_lexer": "ipython3",
   "version": "3.12.5"
  }
 },
 "nbformat": 4,
 "nbformat_minor": 2
}
